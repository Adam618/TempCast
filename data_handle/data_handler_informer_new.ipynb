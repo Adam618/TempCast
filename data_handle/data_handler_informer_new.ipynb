{
 "cells": [
  {
   "cell_type": "code",
   "execution_count": 1,
   "id": "91d4831b",
   "metadata": {},
   "outputs": [],
   "source": [
    "import pandas as pd\n",
    "import numpy as np\n",
    "import netCDF4 as nc\n",
    "import matplotlib.pyplot as plt"
   ]
  },
  {
   "cell_type": "markdown",
   "id": "8d489088-9e46-4b2e-8102-c68ee571380b",
   "metadata": {},
   "source": [
    "#### 采用2022年500pa具有全部特征数据作数据分析，其他的数据没有全部的特征"
   ]
  },
  {
   "cell_type": "code",
   "execution_count": 2,
   "id": "b96d481f",
   "metadata": {},
   "outputs": [],
   "source": [
    "filename_2022_500pa_all = '../../data/raw/2022_500pa.nc'\n",
    "f_2022_500pa_all = nc.Dataset(filename_2022_500pa_all)   \n",
    "\n"
   ]
  },
  {
   "cell_type": "markdown",
   "id": "199180e0-2603-49c8-bb50-de91c4f44aa9",
   "metadata": {},
   "source": [
    "### 查看模态数据信息"
   ]
  },
  {
   "cell_type": "code",
   "execution_count": 3,
   "id": "c858de95-7359-44fb-822c-e4ee2eb6e48d",
   "metadata": {},
   "outputs": [
    {
     "data": {
      "text/html": [
       "<div>\n",
       "<style scoped>\n",
       "    .dataframe tbody tr th:only-of-type {\n",
       "        vertical-align: middle;\n",
       "    }\n",
       "\n",
       "    .dataframe tbody tr th {\n",
       "        vertical-align: top;\n",
       "    }\n",
       "\n",
       "    .dataframe thead th {\n",
       "        text-align: right;\n",
       "    }\n",
       "</style>\n",
       "<table border=\"1\" class=\"dataframe\">\n",
       "  <thead>\n",
       "    <tr style=\"text-align: right;\">\n",
       "      <th></th>\n",
       "      <th>name</th>\n",
       "      <th>long_name</th>\n",
       "      <th>units</th>\n",
       "      <th>shape</th>\n",
       "    </tr>\n",
       "  </thead>\n",
       "  <tbody>\n",
       "    <tr>\n",
       "      <th>0</th>\n",
       "      <td>longitude</td>\n",
       "      <td>longitude</td>\n",
       "      <td>degrees_east</td>\n",
       "      <td>(81,)</td>\n",
       "    </tr>\n",
       "    <tr>\n",
       "      <th>1</th>\n",
       "      <td>latitude</td>\n",
       "      <td>latitude</td>\n",
       "      <td>degrees_north</td>\n",
       "      <td>(81,)</td>\n",
       "    </tr>\n",
       "    <tr>\n",
       "      <th>2</th>\n",
       "      <td>expver</td>\n",
       "      <td>expver</td>\n",
       "      <td>none</td>\n",
       "      <td>(2,)</td>\n",
       "    </tr>\n",
       "    <tr>\n",
       "      <th>3</th>\n",
       "      <td>time</td>\n",
       "      <td>time</td>\n",
       "      <td>hours since 1900-01-01 00:00:00.0</td>\n",
       "      <td>(5088,)</td>\n",
       "    </tr>\n",
       "    <tr>\n",
       "      <th>4</th>\n",
       "      <td>cc</td>\n",
       "      <td>Fraction of cloud cover</td>\n",
       "      <td>(0 - 1)</td>\n",
       "      <td>(5088, 2, 81, 81)</td>\n",
       "    </tr>\n",
       "    <tr>\n",
       "      <th>5</th>\n",
       "      <td>r</td>\n",
       "      <td>Relative humidity</td>\n",
       "      <td>%</td>\n",
       "      <td>(5088, 2, 81, 81)</td>\n",
       "    </tr>\n",
       "    <tr>\n",
       "      <th>6</th>\n",
       "      <td>clwc</td>\n",
       "      <td>Specific cloud liquid water content</td>\n",
       "      <td>kg kg**-1</td>\n",
       "      <td>(5088, 2, 81, 81)</td>\n",
       "    </tr>\n",
       "    <tr>\n",
       "      <th>7</th>\n",
       "      <td>q</td>\n",
       "      <td>Specific humidity</td>\n",
       "      <td>kg kg**-1</td>\n",
       "      <td>(5088, 2, 81, 81)</td>\n",
       "    </tr>\n",
       "    <tr>\n",
       "      <th>8</th>\n",
       "      <td>t</td>\n",
       "      <td>Temperature</td>\n",
       "      <td>K</td>\n",
       "      <td>(5088, 2, 81, 81)</td>\n",
       "    </tr>\n",
       "    <tr>\n",
       "      <th>9</th>\n",
       "      <td>u</td>\n",
       "      <td>U component of wind</td>\n",
       "      <td>m s**-1</td>\n",
       "      <td>(5088, 2, 81, 81)</td>\n",
       "    </tr>\n",
       "    <tr>\n",
       "      <th>10</th>\n",
       "      <td>v</td>\n",
       "      <td>V component of wind</td>\n",
       "      <td>m s**-1</td>\n",
       "      <td>(5088, 2, 81, 81)</td>\n",
       "    </tr>\n",
       "  </tbody>\n",
       "</table>\n",
       "</div>"
      ],
      "text/plain": [
       "         name                            long_name  \\\n",
       "0   longitude                            longitude   \n",
       "1    latitude                             latitude   \n",
       "2      expver                               expver   \n",
       "3        time                                 time   \n",
       "4          cc              Fraction of cloud cover   \n",
       "5           r                    Relative humidity   \n",
       "6        clwc  Specific cloud liquid water content   \n",
       "7           q                    Specific humidity   \n",
       "8           t                          Temperature   \n",
       "9           u                  U component of wind   \n",
       "10          v                  V component of wind   \n",
       "\n",
       "                                units              shape  \n",
       "0                        degrees_east              (81,)  \n",
       "1                       degrees_north              (81,)  \n",
       "2                                none               (2,)  \n",
       "3   hours since 1900-01-01 00:00:00.0            (5088,)  \n",
       "4                             (0 - 1)  (5088, 2, 81, 81)  \n",
       "5                                   %  (5088, 2, 81, 81)  \n",
       "6                           kg kg**-1  (5088, 2, 81, 81)  \n",
       "7                           kg kg**-1  (5088, 2, 81, 81)  \n",
       "8                                   K  (5088, 2, 81, 81)  \n",
       "9                             m s**-1  (5088, 2, 81, 81)  \n",
       "10                            m s**-1  (5088, 2, 81, 81)  "
      ]
     },
     "execution_count": 3,
     "metadata": {},
     "output_type": "execute_result"
    }
   ],
   "source": [
    "\n",
    "f_var = f_2022_500pa_all\n",
    "all_vars_name = []\n",
    "all_vars_long_name = []\n",
    "all_vars_units = []\n",
    "all_vars_shape = []\n",
    "\n",
    "for key in f_var.variables.keys():\n",
    "    all_vars_name.append(key)\n",
    "    all_vars_long_name.append(f_var.variables[key].long_name)\n",
    "    try:\n",
    "        all_vars_units.append(f_var.variables[key].units)\n",
    "    except:   \n",
    "        all_vars_units.append('none')\n",
    "    all_vars_shape.append(f_var.variables[key].shape)\n",
    "\n",
    "\n",
    "a_vars_inf = pd.DataFrame(all_vars_name,columns = ['name'])\n",
    "a_vars_inf['long_name'] = all_vars_long_name\n",
    "a_vars_inf['units'] = all_vars_units\n",
    "a_vars_inf['shape'] = all_vars_shape\n",
    "a_vars_inf"
   ]
  },
  {
   "cell_type": "markdown",
   "id": "35061be6-9c1c-479d-93aa-bd4e166814e7",
   "metadata": {},
   "source": [
    "### 模态数据分析（气象站点位置）"
   ]
  },
  {
   "cell_type": "code",
   "execution_count": 4,
   "id": "bea7a0f8",
   "metadata": {
    "code_folding": []
   },
   "outputs": [],
   "source": [
    "def select_data_point(name,f,point,latitude,longitude,left,right):\n",
    "    # expver一部分有值，一部分没值分界点会随着当前时间变化 \n",
    "    data = f[name]\n",
    "    if 'expver' in f.variables.keys():\n",
    "        print(data.shape)\n",
    "        data = np.concatenate((data[:point,0,latitude,longitude],data[point:,1,latitude,longitude]))\n",
    "    else:\n",
    "        data = data[:,latitude,longitude]\n",
    "    data = data[left:right]\n",
    "    if name == 't':\n",
    "        data = data\n",
    "    plt.figure(figsize=(10, 3))\n",
    "    plt.plot(np.arange(len(data)),data)\n",
    "    plt.title(name)\n",
    "    plt.show()\n",
    "    return data\n",
    "\n",
    "def select_all_data_point(names,f,point,latitude,longitude,left,right):\n",
    "    df = pd.DataFrame([])\n",
    "    for i in range(len(names)):\n",
    "         df[names[i]] = select_data_point(names[i],f,point,latitude,longitude,left,right)\n",
    "    station_2022 = pd.read_csv('../../data/raw/station_nan_2022.csv')\n",
    "\n",
    "    df['tem'] = station_2022['tem']\n",
    "   \n",
    "    plt.figure(figsize=(10, 3))\n",
    "    plt.plot(np.arange(right-left),station_2022[left:right].values)\n",
    "    plt.title(\"station_tem\")\n",
    "    return df\n",
    "        "
   ]
  },
  {
   "cell_type": "code",
   "execution_count": 5,
   "id": "8fd954a6",
   "metadata": {},
   "outputs": [
    {
     "name": "stdout",
     "output_type": "stream",
     "text": [
      "(5088, 2, 81, 81)\n"
     ]
    },
    {
     "data": {
      "image/png": "[encoded data removed]",
      "text/plain": [
       "<Figure size 720x216 with 1 Axes>"
      ]
     },
     "metadata": {
      "needs_background": "light"
     },
     "output_type": "display_data"
    },
    {
     "name": "stdout",
     "output_type": "stream",
     "text": [
      "(5088, 2, 81, 81)\n"
     ]
    },
    {
     "data": {
      "image/png": "[encoded data removed]",
      "text/plain": [
       "<Figure size 720x216 with 1 Axes>"
      ]
     },
     "metadata": {
      "needs_background": "light"
     },
     "output_type": "display_data"
    },
    {
     "name": "stdout",
     "output_type": "stream",
     "text": [
      "(5088, 2, 81, 81)\n"
     ]
    },
    {
     "data": {
      "image/png": "[encoded data removed]",
      "text/plain": [
       "<Figure size 720x216 with 1 Axes>"
      ]
     },
     "metadata": {
      "needs_background": "light"
     },
     "output_type": "display_data"
    },
    {
     "name": "stdout",
     "output_type": "stream",
     "text": [
      "(5088, 2, 81, 81)\n"
     ]
    },
    {
     "data": {
      "image/png": "[encoded data removed]",
      "text/plain": [
       "<Figure size 720x216 with 1 Axes>"
      ]
     },
     "metadata": {
      "needs_background": "light"
     },
     "output_type": "display_data"
    },
    {
     "name": "stdout",
     "output_type": "stream",
     "text": [
      "(5088, 2, 81, 81)\n"
     ]
    },
    {
     "data": {
      "image/png": "[encoded data removed]",
      "text/plain": [
       "<Figure size 720x216 with 1 Axes>"
      ]
     },
     "metadata": {
      "needs_background": "light"
     },
     "output_type": "display_data"
    },
    {
     "name": "stdout",
     "output_type": "stream",
     "text": [
      "(5088, 2, 81, 81)\n"
     ]
    },
    {
     "data": {
      "image/png": "[encoded data removed]",
      "text/plain": [
       "<Figure size 720x216 with 1 Axes>"
      ]
     },
     "metadata": {
      "needs_background": "light"
     },
     "output_type": "display_data"
    },
    {
     "name": "stdout",
     "output_type": "stream",
     "text": [
      "(5088, 2, 81, 81)\n"
     ]
    },
    {
     "data": {
      "image/png": "[encoded data removed]",
      "text/plain": [
       "<Figure size 720x216 with 1 Axes>"
      ]
     },
     "metadata": {
      "needs_background": "light"
     },
     "output_type": "display_data"
    },
    {
     "data": {
      "image/png": "[encoded data removed]",
      "text/plain": [
       "<Figure size 720x216 with 1 Axes>"
      ]
     },
     "metadata": {
      "needs_background": "light"
     },
     "output_type": "display_data"
    }
   ],
   "source": [
    "\n",
    "df = select_all_data_point(['cc', 'r', 'clwc', 'q', 't', 'u', 'v'],f_2022_500pa_all,3624,40,40,0,5088)"
   ]
  },
  {
   "cell_type": "markdown",
   "id": "0d57109b-d337-43cf-9aec-9b39a2189fad",
   "metadata": {},
   "source": [
    "#### Pearson相关系数矩阵"
   ]
  },
  {
   "cell_type": "code",
   "execution_count": 6,
   "id": "596ffb30",
   "metadata": {},
   "outputs": [
    {
     "data": {
      "image/png": "[encoded data removed]",
      "text/plain": [
       "<Figure size 432x288 with 2 Axes>"
      ]
     },
     "metadata": {
      "needs_background": "light"
     },
     "output_type": "display_data"
    }
   ],
   "source": [
    "import seaborn as sns\n",
    "corrmat = df.corr()\n",
    "\n",
    "sns.heatmap(corrmat, annot=True, vmin=-1, vmax=1, cmap='coolwarm_r')\n",
    "# ax.set_title('Correlation Matrix of Lagged Features', fontsize=16)\n",
    "\n",
    "\n",
    "plt.tight_layout()\n",
    "plt.show()"
   ]
  },
  {
   "cell_type": "markdown",
   "id": "431333b4-599f-4faa-b1b4-eaf0ba7ad71f",
   "metadata": {},
   "source": [
    "### 滞后特征分析"
   ]
  },
  {
   "cell_type": "code",
   "execution_count": 7,
   "id": "5e3e2787-03ec-4a1c-a7ba-eaf0ba9502f4",
   "metadata": {},
   "outputs": [
    {
     "data": {
      "image/png": "[encoded data removed]",
      "text/plain": [
       "<Figure size 432x288 with 2 Axes>"
      ]
     },
     "metadata": {
      "needs_background": "light"
     },
     "output_type": "display_data"
    }
   ],
   "source": [
    "import seaborn as sns\n",
    "df['tem'] = df['tem'].shift(2)\n",
    "corrmat = df.corr()\n",
    "\n",
    "sns.heatmap(corrmat, annot=True, vmin=-1, vmax=1, cmap='coolwarm_r')\n",
    "# ax.set_title('Correlation Matrix of Lagged Features', fontsize=16)\n",
    "\n",
    "\n",
    "plt.tight_layout()\n",
    "plt.show()"
   ]
  },
  {
   "cell_type": "markdown",
   "id": "7e27ddc5-fabb-47fd-914e-c5e9b35460fc",
   "metadata": {},
   "source": [
    "# 1、处理模态数据"
   ]
  },
  {
   "cell_type": "code",
   "execution_count": 1,
   "id": "efdadb00-d795-415f-8e56-70d7ddc0f9ac",
   "metadata": {},
   "outputs": [],
   "source": [
    "import pandas as pd\n",
    "import numpy as np\n",
    "import netCDF4 as nc\n",
    "import matplotlib.pyplot as plt\n",
    "f_2020_2021_400pa_500pa_t_q = nc.Dataset('../../data/raw/2020_2021_400pa_500pa_t_q.nc')   \n",
    "f_2022_400pa_500pa_t_q = nc.Dataset('../../data/raw/2022_400pa_500pa_t_q.nc')   "
   ]
  },
  {
   "cell_type": "markdown",
   "id": "ad4d0227-e9f9-4143-91bf-87f738ab793e",
   "metadata": {},
   "source": [
    "### 模态温度（从k转换为摄氏度）\n",
    "1696为阶段点，随着时间更新，跟expver有关"
   ]
  },
  {
   "cell_type": "code",
   "execution_count": 2,
   "id": "d59ddc3e-c665-410d-9d77-e94c890e70d5",
   "metadata": {},
   "outputs": [
    {
     "data": {
      "text/plain": [
       "(1944, 2, 2, 81, 81)"
      ]
     },
     "execution_count": 2,
     "metadata": {},
     "output_type": "execute_result"
    }
   ],
   "source": [
    "f_2022_400pa_500pa_t_q['t'].shape"
   ]
  },
  {
   "cell_type": "code",
   "execution_count": 3,
   "id": "f3575765",
   "metadata": {},
   "outputs": [
    {
     "data": {
      "text/plain": [
       "(7792, 2, 80, 80)"
      ]
     },
     "execution_count": 3,
     "metadata": {},
     "output_type": "execute_result"
    }
   ],
   "source": [
    "var1 = 't'\n",
    "point = 1696\n",
    "var1_2020_2022= np.concatenate((f_2020_2021_400pa_500pa_t_q[var1],np.concatenate((f_2022_400pa_500pa_t_q[var1][:point,0,::],f_2022_400pa_500pa_t_q[var1][point:,1,::]))))[:,:,:-1,:-1]-273.15\n",
    "var1_2020_2022.shape"
   ]
  },
  {
   "cell_type": "code",
   "execution_count": null,
   "id": "36447c09-fe53-4dbe-927e-67e34434b145",
   "metadata": {},
   "outputs": [],
   "source": []
  },
  {
   "cell_type": "code",
   "execution_count": 4,
   "id": "32d8650b",
   "metadata": {},
   "outputs": [],
   "source": [
    "#  查看有没有空白，截断点选错会产生空白\n",
    "# for i in range(0,7792,100):\n",
    "    \n",
    "#      #获取变量的数据\n",
    "#     plt.imshow(var1_2012_2022[i][1],cmap='gray')\n",
    "#     plt.show()"
   ]
  },
  {
   "cell_type": "markdown",
   "id": "5aa6dda6-54a6-4dae-8f61-234ecc386c61",
   "metadata": {},
   "source": [
    "### 模态比湿度"
   ]
  },
  {
   "cell_type": "code",
   "execution_count": 5,
   "id": "f14e9e00",
   "metadata": {},
   "outputs": [
    {
     "data": {
      "text/plain": [
       "(7792, 2, 80, 80)"
      ]
     },
     "execution_count": 5,
     "metadata": {},
     "output_type": "execute_result"
    }
   ],
   "source": [
    "var2 = 'q'\n",
    "point = 1696\n",
    "var2_2020_2022= np.concatenate((f_2020_2021_400pa_500pa_t_q[var2],np.concatenate((f_2022_400pa_500pa_t_q[var2][:point,0,::],f_2022_400pa_500pa_t_q[var2][point:,1,::]))))[:,:,:-1,:-1]-273.15\n",
    "var2_2020_2022.shape"
   ]
  },
  {
   "cell_type": "code",
   "execution_count": 6,
   "id": "ef1afa87-9524-4db7-a8fe-176b0ca64aca",
   "metadata": {},
   "outputs": [],
   "source": [
    "#  查看有没有空白，截断点选错会产生空白\n",
    "# for i in range(0,7792,100):\n",
    "    \n",
    "#      #获取变量的数据\n",
    "#     plt.imshow(var2_2012_2022[i][0],cmap='gray')\n",
    "#     plt.show()"
   ]
  },
  {
   "cell_type": "markdown",
   "id": "50a10277-06a6-4c9f-9917-72895a7e8da7",
   "metadata": {},
   "source": [
    "### 将温度、比湿度合并"
   ]
  },
  {
   "cell_type": "code",
   "execution_count": 7,
   "id": "4a86f2de",
   "metadata": {},
   "outputs": [
    {
     "data": {
      "text/plain": [
       "(7792, 4, 80, 80)"
      ]
     },
     "execution_count": 7,
     "metadata": {},
     "output_type": "execute_result"
    }
   ],
   "source": [
    "muti_var_2020_2022 = np.concatenate((var1_2020_2022,var2_2020_2022),axis=1)\n",
    "muti_var_2020_2022.shape"
   ]
  },
  {
   "cell_type": "markdown",
   "id": "65e37307-dea8-4cc0-99ad-cf2cf9432792",
   "metadata": {},
   "source": [
    "### 提取气象因子对应的时间跨度"
   ]
  },
  {
   "cell_type": "code",
   "execution_count": 8,
   "id": "89781d87-f719-4989-b6eb-22e04913944b",
   "metadata": {},
   "outputs": [
    {
     "data": {
      "text/plain": [
       "(5848,)"
      ]
     },
     "execution_count": 8,
     "metadata": {},
     "output_type": "execute_result"
    }
   ],
   "source": [
    "f_2020_2021_400pa_500pa_t_q['time'].shape"
   ]
  },
  {
   "cell_type": "code",
   "execution_count": 9,
   "id": "1e81fac0-2f34-4948-9301-c8e269027a81",
   "metadata": {},
   "outputs": [
    {
     "data": {
      "text/plain": [
       "(1944,)"
      ]
     },
     "execution_count": 9,
     "metadata": {},
     "output_type": "execute_result"
    }
   ],
   "source": [
    "f_2022_400pa_500pa_t_q['time'].shape"
   ]
  },
  {
   "cell_type": "code",
   "execution_count": 10,
   "id": "00c26cc7-b799-4fed-983b-22a85f9145fa",
   "metadata": {},
   "outputs": [
    {
     "data": {
      "text/plain": [
       "(7792,)"
      ]
     },
     "execution_count": 10,
     "metadata": {},
     "output_type": "execute_result"
    }
   ],
   "source": [
    "\n",
    "time_2020_2022 = np.concatenate((f_2020_2021_400pa_500pa_t_q['time'],f_2022_400pa_500pa_t_q['time']))\n",
    "time_2020_2022.shape"
   ]
  },
  {
   "cell_type": "code",
   "execution_count": 11,
   "id": "b8f27c77",
   "metadata": {},
   "outputs": [],
   "source": [
    "time_2020_2022 = nc.num2date(time_2020_2022, f_2020_2021_400pa_500pa_t_q['time'].units)"
   ]
  },
  {
   "cell_type": "code",
   "execution_count": 12,
   "id": "679748ab",
   "metadata": {},
   "outputs": [],
   "source": [
    "for i in range(time_2020_2022.shape[0]):\n",
    "    time_2020_2022[i] = time_2020_2022.data[i].strftime('%Y_%m_%d_%H')  "
   ]
  },
  {
   "cell_type": "code",
   "execution_count": 13,
   "id": "e42dadf3",
   "metadata": {},
   "outputs": [
    {
     "data": {
      "text/plain": [
       "(7792,)"
      ]
     },
     "execution_count": 13,
     "metadata": {},
     "output_type": "execute_result"
    }
   ],
   "source": [
    "time_2020_2022[:].shape"
   ]
  },
  {
   "cell_type": "code",
   "execution_count": 14,
   "id": "44011b92-d083-4b26-ad8d-f0729fed8482",
   "metadata": {},
   "outputs": [
    {
     "data": {
      "text/plain": [
       "masked_array(data=['2020_01_01_02', '2020_01_01_05', '2020_01_01_08', ...,\n",
       "                   '2022_08_31_17', '2022_08_31_20', '2022_08_31_23'],\n",
       "             mask=False,\n",
       "       fill_value='?',\n",
       "            dtype=object)"
      ]
     },
     "execution_count": 14,
     "metadata": {},
     "output_type": "execute_result"
    }
   ],
   "source": [
    "time_2020_2022"
   ]
  },
  {
   "cell_type": "markdown",
   "id": "329aa1c5-1a95-4784-ac59-b340ebb760ae",
   "metadata": {},
   "source": [
    "### 气象因子按时间拆分写入"
   ]
  },
  {
   "cell_type": "code",
   "execution_count": 15,
   "id": "05eec01a",
   "metadata": {},
   "outputs": [],
   "source": [
    "# for i in range(muti_var_2020_2022.shape[0]):\n",
    "#     np.save('../../data/informer/{}_400pa_500pa/{}.npy'.format('t_q',time_2020_2022[i]),muti_var_2020_2022[i].data)"
   ]
  },
  {
   "cell_type": "code",
   "execution_count": 16,
   "id": "c1056410-ae05-46e3-babb-78064691f7cf",
   "metadata": {},
   "outputs": [],
   "source": [
    "# for i in range(var1_2020_2022.shape[0]):\n",
    "#     np.save('../../data/informer/{}_400pa_500pa/{}.npy'.format(var1,time_2020_2022[i]),var1_2020_2022[i].data)"
   ]
  },
  {
   "cell_type": "code",
   "execution_count": 17,
   "id": "1607f501-e705-433e-a49e-034bf6f4224d",
   "metadata": {},
   "outputs": [],
   "source": [
    "# for i in range(var2_2020_2022.shape[0]):\n",
    "#     np.save('../../data/informer/{}_400pa_500pa/{}.npy'.format(var2,time_2020_2022[i]),var2_2020_2022[i].data)"
   ]
  },
  {
   "cell_type": "code",
   "execution_count": 18,
   "id": "373e361d-65c6-4672-9906-3f34e0277e94",
   "metadata": {},
   "outputs": [],
   "source": [
    "## 400pa数据\n",
    "# for i in range(muti_var_2020_2022.shape[0]):\n",
    "#     np.save('../../data/informer/{}_400pa/{}.npy'.format('t_q',time_2020_2022[i]),muti_var_2020_2022[i][0].data)"
   ]
  },
  {
   "cell_type": "code",
   "execution_count": 21,
   "id": "709d4375-6c76-45a5-9f5a-7514e3f10fed",
   "metadata": {},
   "outputs": [],
   "source": [
    "# for i in range(var2_2020_2022.shape[0]):\n",
    "#     np.save('../../data/informer/{}_400pa/{}.npy'.format(var1,time_2020_2022[i]),var1_2020_2022[i][0].data)"
   ]
  },
  {
   "cell_type": "code",
   "execution_count": 20,
   "id": "b87bcea1-cdc5-454e-aa83-ad08aaa01bda",
   "metadata": {},
   "outputs": [],
   "source": [
    "# for i in range(var2_2020_2022.shape[0]):\n",
    "#     np.save('../../data/informer/{}_400pa/{}.npy'.format(var2,time_2020_2022[i]),var2_2020_2022[i][0].data)"
   ]
  },
  {
   "cell_type": "markdown",
   "id": "fccf4b8c-629c-4fcf-ac27-2cdc25a633ea",
   "metadata": {
    "jp-MarkdownHeadingCollapsed": true,
    "tags": []
   },
   "source": [
    "# 2、站点温度数据处理"
   ]
  },
  {
   "cell_type": "code",
   "execution_count": 1,
   "id": "6416dc6d",
   "metadata": {},
   "outputs": [
    {
     "name": "stderr",
     "output_type": "stream",
     "text": [
      "C:\\Users\\cy511\\.conda\\envs\\mypytorchenv\\lib\\site-packages\\numpy\\_distributor_init.py:30: UserWarning: loaded more than 1 DLL from .libs:\n",
      "C:\\Users\\cy511\\.conda\\envs\\mypytorchenv\\lib\\site-packages\\numpy\\.libs\\libopenblas.FB5AE2TYXYH2IJRDKGDGQ3XBKLKTF43H.gfortran-win_amd64.dll\n",
      "C:\\Users\\cy511\\.conda\\envs\\mypytorchenv\\lib\\site-packages\\numpy\\.libs\\libopenblas.QVLO2T66WEPI7JZ63PS3HMOHFEY472BC.gfortran-win_amd64.dll\n",
      "  warnings.warn(\"loaded more than 1 DLL from .libs:\"\n"
     ]
    }
   ],
   "source": [
    "import pandas as pd\n",
    "import numpy as np\n"
   ]
  },
  {
   "cell_type": "code",
   "execution_count": 3,
   "id": "cfd32353",
   "metadata": {},
   "outputs": [
    {
     "data": {
      "text/html": [
       "<div>\n",
       "<style scoped>\n",
       "    .dataframe tbody tr th:only-of-type {\n",
       "        vertical-align: middle;\n",
       "    }\n",
       "\n",
       "    .dataframe tbody tr th {\n",
       "        vertical-align: top;\n",
       "    }\n",
       "\n",
       "    .dataframe thead th {\n",
       "        text-align: right;\n",
       "    }\n",
       "</style>\n",
       "<table border=\"1\" class=\"dataframe\">\n",
       "  <thead>\n",
       "    <tr style=\"text-align: right;\">\n",
       "      <th></th>\n",
       "      <th>date</th>\n",
       "      <th>tem</th>\n",
       "    </tr>\n",
       "  </thead>\n",
       "  <tbody>\n",
       "    <tr>\n",
       "      <th>0</th>\n",
       "      <td>2021-01-01 00:00:00</td>\n",
       "      <td>-12.9</td>\n",
       "    </tr>\n",
       "    <tr>\n",
       "      <th>1</th>\n",
       "      <td>2021-01-01 01:00:00</td>\n",
       "      <td>-14.8</td>\n",
       "    </tr>\n",
       "    <tr>\n",
       "      <th>2</th>\n",
       "      <td>2021-01-01 02:00:00</td>\n",
       "      <td>-14.1</td>\n",
       "    </tr>\n",
       "    <tr>\n",
       "      <th>3</th>\n",
       "      <td>2021-01-01 03:00:00</td>\n",
       "      <td>-10.8</td>\n",
       "    </tr>\n",
       "    <tr>\n",
       "      <th>4</th>\n",
       "      <td>2021-01-01 04:00:00</td>\n",
       "      <td>-8.1</td>\n",
       "    </tr>\n",
       "    <tr>\n",
       "      <th>5</th>\n",
       "      <td>2021-01-01 15:00:00</td>\n",
       "      <td>-6.4</td>\n",
       "    </tr>\n",
       "    <tr>\n",
       "      <th>6</th>\n",
       "      <td>2021-01-01 16:00:00</td>\n",
       "      <td>-11.0</td>\n",
       "    </tr>\n",
       "    <tr>\n",
       "      <th>7</th>\n",
       "      <td>2021-01-01 17:00:00</td>\n",
       "      <td>-11.3</td>\n",
       "    </tr>\n",
       "  </tbody>\n",
       "</table>\n",
       "</div>"
      ],
      "text/plain": [
       "                  date   tem\n",
       "0  2021-01-01 00:00:00 -12.9\n",
       "1  2021-01-01 01:00:00 -14.8\n",
       "2  2021-01-01 02:00:00 -14.1\n",
       "3  2021-01-01 03:00:00 -10.8\n",
       "4  2021-01-01 04:00:00  -8.1\n",
       "5  2021-01-01 15:00:00  -6.4\n",
       "6  2021-01-01 16:00:00 -11.0\n",
       "7  2021-01-01 17:00:00 -11.3"
      ]
     },
     "execution_count": 3,
     "metadata": {},
     "output_type": "execute_result"
    }
   ],
   "source": [
    "df_station_2122= pd.read_excel('../../data/raw/2021_2022.xlsx')\n",
    "df_station_2122 =df_station_2122[['资料时间','温度']]\n",
    "df_station_2122.columns = ['date','tem']\n",
    "df_station_2122.head(8)"
   ]
  },
  {
   "cell_type": "code",
   "execution_count": 3,
   "id": "637de09c",
   "metadata": {},
   "outputs": [],
   "source": [
    "df_station_2122['date'] = pd.to_datetime(df_station_2122['date'])\n",
    "df_station_2122.sort_values(by=['date'],inplace=True,ascending=True)"
   ]
  },
  {
   "cell_type": "code",
   "execution_count": 4,
   "id": "6751fef5",
   "metadata": {},
   "outputs": [
    {
     "data": {
      "text/html": [
       "<div>\n",
       "<style scoped>\n",
       "    .dataframe tbody tr th:only-of-type {\n",
       "        vertical-align: middle;\n",
       "    }\n",
       "\n",
       "    .dataframe tbody tr th {\n",
       "        vertical-align: top;\n",
       "    }\n",
       "\n",
       "    .dataframe thead th {\n",
       "        text-align: right;\n",
       "    }\n",
       "</style>\n",
       "<table border=\"1\" class=\"dataframe\">\n",
       "  <thead>\n",
       "    <tr style=\"text-align: right;\">\n",
       "      <th></th>\n",
       "      <th>date</th>\n",
       "      <th>tem</th>\n",
       "    </tr>\n",
       "  </thead>\n",
       "  <tbody>\n",
       "    <tr>\n",
       "      <th>0</th>\n",
       "      <td>2019-01-01 01:00:00</td>\n",
       "      <td>-18.3</td>\n",
       "    </tr>\n",
       "    <tr>\n",
       "      <th>1</th>\n",
       "      <td>2019-01-01 02:00:00</td>\n",
       "      <td>-18.2</td>\n",
       "    </tr>\n",
       "    <tr>\n",
       "      <th>2</th>\n",
       "      <td>2019-01-01 03:00:00</td>\n",
       "      <td>-16.4</td>\n",
       "    </tr>\n",
       "    <tr>\n",
       "      <th>3</th>\n",
       "      <td>2019-01-01 04:00:00</td>\n",
       "      <td>-14.2</td>\n",
       "    </tr>\n",
       "    <tr>\n",
       "      <th>4</th>\n",
       "      <td>2019-01-01 05:00:00</td>\n",
       "      <td>-10.5</td>\n",
       "    </tr>\n",
       "    <tr>\n",
       "      <th>...</th>\n",
       "      <td>...</td>\n",
       "      <td>...</td>\n",
       "    </tr>\n",
       "    <tr>\n",
       "      <th>17422</th>\n",
       "      <td>2020-12-31 19:00:00</td>\n",
       "      <td>-6.8</td>\n",
       "    </tr>\n",
       "    <tr>\n",
       "      <th>17423</th>\n",
       "      <td>2020-12-31 20:00:00</td>\n",
       "      <td>-10.6</td>\n",
       "    </tr>\n",
       "    <tr>\n",
       "      <th>17424</th>\n",
       "      <td>2020-12-31 21:00:00</td>\n",
       "      <td>-11.0</td>\n",
       "    </tr>\n",
       "    <tr>\n",
       "      <th>17425</th>\n",
       "      <td>2020-12-31 22:00:00</td>\n",
       "      <td>-11.7</td>\n",
       "    </tr>\n",
       "    <tr>\n",
       "      <th>17426</th>\n",
       "      <td>2020-12-31 23:00:00</td>\n",
       "      <td>-13.2</td>\n",
       "    </tr>\n",
       "  </tbody>\n",
       "</table>\n",
       "<p>17427 rows × 2 columns</p>\n",
       "</div>"
      ],
      "text/plain": [
       "                     date   tem\n",
       "0     2019-01-01 01:00:00 -18.3\n",
       "1     2019-01-01 02:00:00 -18.2\n",
       "2     2019-01-01 03:00:00 -16.4\n",
       "3     2019-01-01 04:00:00 -14.2\n",
       "4     2019-01-01 05:00:00 -10.5\n",
       "...                   ...   ...\n",
       "17422 2020-12-31 19:00:00  -6.8\n",
       "17423 2020-12-31 20:00:00 -10.6\n",
       "17424 2020-12-31 21:00:00 -11.0\n",
       "17425 2020-12-31 22:00:00 -11.7\n",
       "17426 2020-12-31 23:00:00 -13.2\n",
       "\n",
       "[17427 rows x 2 columns]"
      ]
     },
     "execution_count": 4,
     "metadata": {},
     "output_type": "execute_result"
    }
   ],
   "source": [
    "df_station_1920= pd.read_excel('../../data/raw/2019_2020.xlsx')\n",
    "df_station_1920 = df_station_1920.iloc[:,-2:]\n",
    "df_station_1920.columns=['date','tem']\n",
    "df_station_1920.sort_values(by=['date'],inplace=True,ascending=True)\n",
    "df_station_1920"
   ]
  },
  {
   "cell_type": "code",
   "execution_count": 5,
   "id": "47ebd4a9",
   "metadata": {},
   "outputs": [],
   "source": [
    "df_station_1922 = pd.concat([df_station_1920,df_station_2122],axis=0)"
   ]
  },
  {
   "cell_type": "code",
   "execution_count": 6,
   "id": "8b9c5246",
   "metadata": {},
   "outputs": [
    {
     "data": {
      "text/plain": [
       "<AxesSubplot:xlabel='date'>"
      ]
     },
     "execution_count": 6,
     "metadata": {},
     "output_type": "execute_result"
    },
    {
     "data": {
      "image/png": "[encoded data removed]",
      "text/plain": [
       "<Figure size 432x288 with 1 Axes>"
      ]
     },
     "metadata": {
      "needs_background": "light"
     },
     "output_type": "display_data"
    }
   ],
   "source": [
    "df_station_1922.set_index('date').plot()"
   ]
  },
  {
   "cell_type": "code",
   "execution_count": 7,
   "id": "a9c355c3",
   "metadata": {},
   "outputs": [
    {
     "data": {
      "text/html": [
       "<div>\n",
       "<style scoped>\n",
       "    .dataframe tbody tr th:only-of-type {\n",
       "        vertical-align: middle;\n",
       "    }\n",
       "\n",
       "    .dataframe tbody tr th {\n",
       "        vertical-align: top;\n",
       "    }\n",
       "\n",
       "    .dataframe thead th {\n",
       "        text-align: right;\n",
       "    }\n",
       "</style>\n",
       "<table border=\"1\" class=\"dataframe\">\n",
       "  <thead>\n",
       "    <tr style=\"text-align: right;\">\n",
       "      <th></th>\n",
       "      <th>date</th>\n",
       "      <th>tem</th>\n",
       "    </tr>\n",
       "  </thead>\n",
       "  <tbody>\n",
       "    <tr>\n",
       "      <th>0</th>\n",
       "      <td>2019-01-01 01:00:00</td>\n",
       "      <td>-18.3</td>\n",
       "    </tr>\n",
       "    <tr>\n",
       "      <th>1</th>\n",
       "      <td>2019-01-01 02:00:00</td>\n",
       "      <td>-18.2</td>\n",
       "    </tr>\n",
       "    <tr>\n",
       "      <th>2</th>\n",
       "      <td>2019-01-01 03:00:00</td>\n",
       "      <td>-16.4</td>\n",
       "    </tr>\n",
       "    <tr>\n",
       "      <th>3</th>\n",
       "      <td>2019-01-01 04:00:00</td>\n",
       "      <td>-14.2</td>\n",
       "    </tr>\n",
       "    <tr>\n",
       "      <th>4</th>\n",
       "      <td>2019-01-01 05:00:00</td>\n",
       "      <td>-10.5</td>\n",
       "    </tr>\n",
       "    <tr>\n",
       "      <th>...</th>\n",
       "      <td>...</td>\n",
       "      <td>...</td>\n",
       "    </tr>\n",
       "    <tr>\n",
       "      <th>14499</th>\n",
       "      <td>2022-08-30 19:00:00</td>\n",
       "      <td>13.4</td>\n",
       "    </tr>\n",
       "    <tr>\n",
       "      <th>14500</th>\n",
       "      <td>2022-08-30 20:00:00</td>\n",
       "      <td>12.5</td>\n",
       "    </tr>\n",
       "    <tr>\n",
       "      <th>14493</th>\n",
       "      <td>2022-08-30 21:00:00</td>\n",
       "      <td>11.4</td>\n",
       "    </tr>\n",
       "    <tr>\n",
       "      <th>14494</th>\n",
       "      <td>2022-08-30 22:00:00</td>\n",
       "      <td>10.8</td>\n",
       "    </tr>\n",
       "    <tr>\n",
       "      <th>14495</th>\n",
       "      <td>2022-08-30 23:00:00</td>\n",
       "      <td>10.6</td>\n",
       "    </tr>\n",
       "  </tbody>\n",
       "</table>\n",
       "<p>31939 rows × 2 columns</p>\n",
       "</div>"
      ],
      "text/plain": [
       "                     date   tem\n",
       "0     2019-01-01 01:00:00 -18.3\n",
       "1     2019-01-01 02:00:00 -18.2\n",
       "2     2019-01-01 03:00:00 -16.4\n",
       "3     2019-01-01 04:00:00 -14.2\n",
       "4     2019-01-01 05:00:00 -10.5\n",
       "...                   ...   ...\n",
       "14499 2022-08-30 19:00:00  13.4\n",
       "14500 2022-08-30 20:00:00  12.5\n",
       "14493 2022-08-30 21:00:00  11.4\n",
       "14494 2022-08-30 22:00:00  10.8\n",
       "14495 2022-08-30 23:00:00  10.6\n",
       "\n",
       "[31939 rows x 2 columns]"
      ]
     },
     "execution_count": 7,
     "metadata": {},
     "output_type": "execute_result"
    }
   ],
   "source": [
    "df_station_1922"
   ]
  },
  {
   "cell_type": "code",
   "execution_count": 8,
   "id": "085b0c01",
   "metadata": {},
   "outputs": [],
   "source": [
    "dates = pd.date_range(start=\"2019-01-01 01:00:00 \", end=\"2022-08-30 23:00:00\",freq='H')"
   ]
  },
  {
   "cell_type": "code",
   "execution_count": 9,
   "id": "3f4c476c",
   "metadata": {},
   "outputs": [],
   "source": [
    "df_station_1922 = df_station_1922.set_index('date')"
   ]
  },
  {
   "cell_type": "code",
   "execution_count": 10,
   "id": "fd3f67ca",
   "metadata": {},
   "outputs": [],
   "source": [
    "df_station_1922 = df_station_1922.reindex(dates) "
   ]
  },
  {
   "cell_type": "code",
   "execution_count": 11,
   "id": "f6798fcf-eb4f-4abd-8904-b2c4a651819e",
   "metadata": {},
   "outputs": [
    {
     "name": "stderr",
     "output_type": "stream",
     "text": [
      "/tmp/ipykernel_809488/2746501183.py:1: FutureWarning: Indexing a DataFrame with a datetimelike index using a single string to slice the rows, like `frame[string]`, is deprecated and will be removed in a future version. Use `frame.loc[string]` instead.\n",
      "  df_station_1922['2022-04']\n"
     ]
    },
    {
     "data": {
      "text/html": [
       "<div>\n",
       "<style scoped>\n",
       "    .dataframe tbody tr th:only-of-type {\n",
       "        vertical-align: middle;\n",
       "    }\n",
       "\n",
       "    .dataframe tbody tr th {\n",
       "        vertical-align: top;\n",
       "    }\n",
       "\n",
       "    .dataframe thead th {\n",
       "        text-align: right;\n",
       "    }\n",
       "</style>\n",
       "<table border=\"1\" class=\"dataframe\">\n",
       "  <thead>\n",
       "    <tr style=\"text-align: right;\">\n",
       "      <th></th>\n",
       "      <th>tem</th>\n",
       "    </tr>\n",
       "  </thead>\n",
       "  <tbody>\n",
       "    <tr>\n",
       "      <th>2022-04-01 00:00:00</th>\n",
       "      <td>-7.8</td>\n",
       "    </tr>\n",
       "    <tr>\n",
       "      <th>2022-04-01 01:00:00</th>\n",
       "      <td>-7.8</td>\n",
       "    </tr>\n",
       "    <tr>\n",
       "      <th>2022-04-01 02:00:00</th>\n",
       "      <td>-3.0</td>\n",
       "    </tr>\n",
       "    <tr>\n",
       "      <th>2022-04-01 03:00:00</th>\n",
       "      <td>1.2</td>\n",
       "    </tr>\n",
       "    <tr>\n",
       "      <th>2022-04-01 04:00:00</th>\n",
       "      <td>2.9</td>\n",
       "    </tr>\n",
       "    <tr>\n",
       "      <th>...</th>\n",
       "      <td>...</td>\n",
       "    </tr>\n",
       "    <tr>\n",
       "      <th>2022-04-30 19:00:00</th>\n",
       "      <td>1.5</td>\n",
       "    </tr>\n",
       "    <tr>\n",
       "      <th>2022-04-30 20:00:00</th>\n",
       "      <td>0.5</td>\n",
       "    </tr>\n",
       "    <tr>\n",
       "      <th>2022-04-30 21:00:00</th>\n",
       "      <td>-0.9</td>\n",
       "    </tr>\n",
       "    <tr>\n",
       "      <th>2022-04-30 22:00:00</th>\n",
       "      <td>-1.4</td>\n",
       "    </tr>\n",
       "    <tr>\n",
       "      <th>2022-04-30 23:00:00</th>\n",
       "      <td>-2.1</td>\n",
       "    </tr>\n",
       "  </tbody>\n",
       "</table>\n",
       "<p>720 rows × 1 columns</p>\n",
       "</div>"
      ],
      "text/plain": [
       "                     tem\n",
       "2022-04-01 00:00:00 -7.8\n",
       "2022-04-01 01:00:00 -7.8\n",
       "2022-04-01 02:00:00 -3.0\n",
       "2022-04-01 03:00:00  1.2\n",
       "2022-04-01 04:00:00  2.9\n",
       "...                  ...\n",
       "2022-04-30 19:00:00  1.5\n",
       "2022-04-30 20:00:00  0.5\n",
       "2022-04-30 21:00:00 -0.9\n",
       "2022-04-30 22:00:00 -1.4\n",
       "2022-04-30 23:00:00 -2.1\n",
       "\n",
       "[720 rows x 1 columns]"
      ]
     },
     "execution_count": 11,
     "metadata": {},
     "output_type": "execute_result"
    }
   ],
   "source": [
    "df_station_1922['2022-04']"
   ]
  },
  {
   "cell_type": "code",
   "execution_count": 12,
   "id": "b03e0260",
   "metadata": {},
   "outputs": [
    {
     "data": {
      "text/plain": [
       "tem    172\n",
       "dtype: int64"
      ]
     },
     "execution_count": 12,
     "metadata": {},
     "output_type": "execute_result"
    }
   ],
   "source": [
    "df_station_1922.isnull().sum()"
   ]
  },
  {
   "cell_type": "code",
   "execution_count": 13,
   "id": "81054864-a1e8-4c1c-8ed2-58ea9b48904c",
   "metadata": {},
   "outputs": [],
   "source": [
    "a = df_station_1922.isnull()"
   ]
  },
  {
   "cell_type": "code",
   "execution_count": 14,
   "id": "68a78a55-b699-4b56-b1c6-cb1f6b378972",
   "metadata": {},
   "outputs": [],
   "source": [
    "# a[a.tem==True].to_csv('./null.csv')"
   ]
  },
  {
   "cell_type": "markdown",
   "id": "dc0f58ec-a798-47e7-bbb3-7997c91437c0",
   "metadata": {},
   "source": [
    "## 前后均值填充"
   ]
  },
  {
   "cell_type": "code",
   "execution_count": 15,
   "id": "a42c7c3c",
   "metadata": {},
   "outputs": [
    {
     "data": {
      "text/plain": [
       "tem    0\n",
       "dtype: int64"
      ]
     },
     "execution_count": 15,
     "metadata": {},
     "output_type": "execute_result"
    }
   ],
   "source": [
    "df_station_1922[\"tem\"] = df_station_1922[\"tem\"].fillna(df_station_1922[\"tem\"].interpolate())\n",
    "df_station_1922.isnull().sum()"
   ]
  },
  {
   "cell_type": "code",
   "execution_count": 13,
   "id": "fc3f163d",
   "metadata": {},
   "outputs": [],
   "source": [
    "# df_station = pd.DataFrame(columns=['date'])\n",
    "# df_stamp.date = list(tmp_stamp.date.values) + list(pred_dates[1:])"
   ]
  },
  {
   "cell_type": "code",
   "execution_count": 18,
   "id": "31799a7d",
   "metadata": {},
   "outputs": [
    {
     "data": {
      "text/plain": [
       "<AxesSubplot:>"
      ]
     },
     "execution_count": 18,
     "metadata": {},
     "output_type": "execute_result"
    },
    {
     "data": {
      "image/png": "[encoded data removed]",
      "text/plain": [
       "<Figure size 432x288 with 1 Axes>"
      ]
     },
     "metadata": {
      "needs_background": "light"
     },
     "output_type": "display_data"
    }
   ],
   "source": [
    "df_station_1922.plot()"
   ]
  },
  {
   "cell_type": "code",
   "execution_count": 19,
   "id": "5e4d9ac1",
   "metadata": {},
   "outputs": [],
   "source": [
    "df_station_1922 = df_station_1922[1::3]"
   ]
  },
  {
   "cell_type": "code",
   "execution_count": 21,
   "id": "085c151e",
   "metadata": {},
   "outputs": [],
   "source": [
    "df_station_1922 = df_station_1922[:-263]"
   ]
  },
  {
   "cell_type": "code",
   "execution_count": 22,
   "id": "7e92e67a",
   "metadata": {},
   "outputs": [],
   "source": [
    "# df_station_1922.to_csv('../../data/informer/station_19010102_22072902.csv')"
   ]
  },
  {
   "cell_type": "markdown",
   "id": "38df3bfa-5f66-4b57-a7e8-123dead7c03e",
   "metadata": {},
   "source": [
    "## 选取20-22年数据作为模型输入"
   ]
  },
  {
   "cell_type": "code",
   "execution_count": 41,
   "id": "c86388e6-45ce-47ed-9d3a-fbcb5320a09d",
   "metadata": {},
   "outputs": [],
   "source": [
    "df_station_1922 = pd.read_csv('../../data/informer/station_19010102_22072902.csv')"
   ]
  },
  {
   "cell_type": "code",
   "execution_count": 43,
   "id": "281b42d2-0978-4c51-9010-1c131447a173",
   "metadata": {},
   "outputs": [],
   "source": [
    "df_station_1922.columns = ['date','tem']"
   ]
  },
  {
   "cell_type": "code",
   "execution_count": 45,
   "id": "d05ff6c1-9e32-4625-a623-425241f99439",
   "metadata": {},
   "outputs": [],
   "source": [
    "df_station_1922 = df_station_1922.set_index('date')"
   ]
  },
  {
   "cell_type": "code",
   "execution_count": 49,
   "id": "41bc7251-7bff-4c7d-aa77-8048860aa64b",
   "metadata": {},
   "outputs": [
    {
     "data": {
      "text/html": [
       "<div>\n",
       "<style scoped>\n",
       "    .dataframe tbody tr th:only-of-type {\n",
       "        vertical-align: middle;\n",
       "    }\n",
       "\n",
       "    .dataframe tbody tr th {\n",
       "        vertical-align: top;\n",
       "    }\n",
       "\n",
       "    .dataframe thead th {\n",
       "        text-align: right;\n",
       "    }\n",
       "</style>\n",
       "<table border=\"1\" class=\"dataframe\">\n",
       "  <thead>\n",
       "    <tr style=\"text-align: right;\">\n",
       "      <th></th>\n",
       "      <th>tem</th>\n",
       "    </tr>\n",
       "    <tr>\n",
       "      <th>date</th>\n",
       "      <th></th>\n",
       "    </tr>\n",
       "  </thead>\n",
       "  <tbody>\n",
       "    <tr>\n",
       "      <th>2020-01-01 02:00:00</th>\n",
       "      <td>-18.6</td>\n",
       "    </tr>\n",
       "    <tr>\n",
       "      <th>2020-01-01 05:00:00</th>\n",
       "      <td>-9.1</td>\n",
       "    </tr>\n",
       "    <tr>\n",
       "      <th>2020-01-01 08:00:00</th>\n",
       "      <td>-6.7</td>\n",
       "    </tr>\n",
       "    <tr>\n",
       "      <th>2020-01-01 11:00:00</th>\n",
       "      <td>-7.7</td>\n",
       "    </tr>\n",
       "    <tr>\n",
       "      <th>2020-01-01 14:00:00</th>\n",
       "      <td>-9.3</td>\n",
       "    </tr>\n",
       "    <tr>\n",
       "      <th>...</th>\n",
       "      <td>...</td>\n",
       "    </tr>\n",
       "    <tr>\n",
       "      <th>2022-04-30 11:00:00</th>\n",
       "      <td>4.5</td>\n",
       "    </tr>\n",
       "    <tr>\n",
       "      <th>2022-04-30 14:00:00</th>\n",
       "      <td>3.1</td>\n",
       "    </tr>\n",
       "    <tr>\n",
       "      <th>2022-04-30 17:00:00</th>\n",
       "      <td>2.9</td>\n",
       "    </tr>\n",
       "    <tr>\n",
       "      <th>2022-04-30 20:00:00</th>\n",
       "      <td>0.5</td>\n",
       "    </tr>\n",
       "    <tr>\n",
       "      <th>2022-04-30 23:00:00</th>\n",
       "      <td>-2.1</td>\n",
       "    </tr>\n",
       "  </tbody>\n",
       "</table>\n",
       "<p>6808 rows × 1 columns</p>\n",
       "</div>"
      ],
      "text/plain": [
       "                      tem\n",
       "date                     \n",
       "2020-01-01 02:00:00 -18.6\n",
       "2020-01-01 05:00:00  -9.1\n",
       "2020-01-01 08:00:00  -6.7\n",
       "2020-01-01 11:00:00  -7.7\n",
       "2020-01-01 14:00:00  -9.3\n",
       "...                   ...\n",
       "2022-04-30 11:00:00   4.5\n",
       "2022-04-30 14:00:00   3.1\n",
       "2022-04-30 17:00:00   2.9\n",
       "2022-04-30 20:00:00   0.5\n",
       "2022-04-30 23:00:00  -2.1\n",
       "\n",
       "[6808 rows x 1 columns]"
      ]
     },
     "execution_count": 49,
     "metadata": {},
     "output_type": "execute_result"
    }
   ],
   "source": [
    "df_station_1922['2020-01-01':'2022-05-01']"
   ]
  },
  {
   "cell_type": "code",
   "execution_count": 50,
   "id": "1abeba88-3c7d-49bb-ae62-210737f25ab7",
   "metadata": {},
   "outputs": [],
   "source": [
    "df_station_1922['2020-01-01':'2022-05-01'].to_csv('../Informer2020-main/data/tem_pre/station_20010102_22043023.csv')"
   ]
  },
  {
   "cell_type": "code",
   "execution_count": 58,
   "id": "4ec01cff-ef44-4cdc-bbb4-b8ba53d9de60",
   "metadata": {},
   "outputs": [],
   "source": [
    "df_station_1922['2022-01-28':'2022-05-01'].to_csv('../Informer2020-main/data/tem_pre/valid_station_22012802_22043023.csv')"
   ]
  },
  {
   "cell_type": "markdown",
   "id": "4ed46925",
   "metadata": {},
   "source": [
    "## 19-22年温度数据处理结束，没发现异常值"
   ]
  },
  {
   "cell_type": "code",
   "execution_count": 6,
   "id": "69747639",
   "metadata": {},
   "outputs": [],
   "source": [
    "dates = pd.date_range(start=\"2021-01-01 00:00:00 \", end=\"2022-08-30 15:00:00\",freq='H')"
   ]
  },
  {
   "cell_type": "code",
   "execution_count": 7,
   "id": "203e7c1f",
   "metadata": {},
   "outputs": [],
   "source": [
    "df_station = df_station.reindex(dates) # 用新的数据去填充索引，缺失的索引补上，然后值设为NAN"
   ]
  },
  {
   "cell_type": "code",
   "execution_count": 8,
   "id": "6d879d66",
   "metadata": {},
   "outputs": [
    {
     "data": {
      "text/html": [
       "<div>\n",
       "<style scoped>\n",
       "    .dataframe tbody tr th:only-of-type {\n",
       "        vertical-align: middle;\n",
       "    }\n",
       "\n",
       "    .dataframe tbody tr th {\n",
       "        vertical-align: top;\n",
       "    }\n",
       "\n",
       "    .dataframe thead th {\n",
       "        text-align: right;\n",
       "    }\n",
       "</style>\n",
       "<table border=\"1\" class=\"dataframe\">\n",
       "  <thead>\n",
       "    <tr style=\"text-align: right;\">\n",
       "      <th></th>\n",
       "      <th>tem</th>\n",
       "    </tr>\n",
       "  </thead>\n",
       "  <tbody>\n",
       "    <tr>\n",
       "      <th>2021-01-01 00:00:00</th>\n",
       "      <td>-12.9</td>\n",
       "    </tr>\n",
       "    <tr>\n",
       "      <th>2021-01-01 01:00:00</th>\n",
       "      <td>-14.8</td>\n",
       "    </tr>\n",
       "    <tr>\n",
       "      <th>2021-01-01 02:00:00</th>\n",
       "      <td>-14.1</td>\n",
       "    </tr>\n",
       "    <tr>\n",
       "      <th>2021-01-01 03:00:00</th>\n",
       "      <td>-10.8</td>\n",
       "    </tr>\n",
       "    <tr>\n",
       "      <th>2021-01-01 04:00:00</th>\n",
       "      <td>-8.1</td>\n",
       "    </tr>\n",
       "    <tr>\n",
       "      <th>...</th>\n",
       "      <td>...</td>\n",
       "    </tr>\n",
       "    <tr>\n",
       "      <th>2022-08-30 11:00:00</th>\n",
       "      <td>21.4</td>\n",
       "    </tr>\n",
       "    <tr>\n",
       "      <th>2022-08-30 12:00:00</th>\n",
       "      <td>20.4</td>\n",
       "    </tr>\n",
       "    <tr>\n",
       "      <th>2022-08-30 13:00:00</th>\n",
       "      <td>19.0</td>\n",
       "    </tr>\n",
       "    <tr>\n",
       "      <th>2022-08-30 14:00:00</th>\n",
       "      <td>17.2</td>\n",
       "    </tr>\n",
       "    <tr>\n",
       "      <th>2022-08-30 15:00:00</th>\n",
       "      <td>15.8</td>\n",
       "    </tr>\n",
       "  </tbody>\n",
       "</table>\n",
       "<p>14560 rows × 1 columns</p>\n",
       "</div>"
      ],
      "text/plain": [
       "                      tem\n",
       "2021-01-01 00:00:00 -12.9\n",
       "2021-01-01 01:00:00 -14.8\n",
       "2021-01-01 02:00:00 -14.1\n",
       "2021-01-01 03:00:00 -10.8\n",
       "2021-01-01 04:00:00  -8.1\n",
       "...                   ...\n",
       "2022-08-30 11:00:00  21.4\n",
       "2022-08-30 12:00:00  20.4\n",
       "2022-08-30 13:00:00  19.0\n",
       "2022-08-30 14:00:00  17.2\n",
       "2022-08-30 15:00:00  15.8\n",
       "\n",
       "[14560 rows x 1 columns]"
      ]
     },
     "execution_count": 8,
     "metadata": {},
     "output_type": "execute_result"
    }
   ],
   "source": [
    "df_station"
   ]
  },
  {
   "cell_type": "code",
   "execution_count": 9,
   "id": "a1bab34c",
   "metadata": {},
   "outputs": [],
   "source": [
    "df_station[\"tem\"] = df_station[\"tem\"].fillna(method='bfill')"
   ]
  },
  {
   "cell_type": "code",
   "execution_count": 10,
   "id": "d0601672",
   "metadata": {},
   "outputs": [],
   "source": [
    "df = df_station[2::3][2:]"
   ]
  },
  {
   "cell_type": "code",
   "execution_count": 11,
   "id": "9df356b9",
   "metadata": {},
   "outputs": [
    {
     "data": {
      "text/html": [
       "<div>\n",
       "<style scoped>\n",
       "    .dataframe tbody tr th:only-of-type {\n",
       "        vertical-align: middle;\n",
       "    }\n",
       "\n",
       "    .dataframe tbody tr th {\n",
       "        vertical-align: top;\n",
       "    }\n",
       "\n",
       "    .dataframe thead th {\n",
       "        text-align: right;\n",
       "    }\n",
       "</style>\n",
       "<table border=\"1\" class=\"dataframe\">\n",
       "  <thead>\n",
       "    <tr style=\"text-align: right;\">\n",
       "      <th></th>\n",
       "      <th>tem</th>\n",
       "    </tr>\n",
       "  </thead>\n",
       "  <tbody>\n",
       "    <tr>\n",
       "      <th>2021-01-01 08:00:00</th>\n",
       "      <td>-0.2</td>\n",
       "    </tr>\n",
       "    <tr>\n",
       "      <th>2021-01-01 11:00:00</th>\n",
       "      <td>-0.9</td>\n",
       "    </tr>\n",
       "    <tr>\n",
       "      <th>2021-01-01 14:00:00</th>\n",
       "      <td>-5.8</td>\n",
       "    </tr>\n",
       "    <tr>\n",
       "      <th>2021-01-01 17:00:00</th>\n",
       "      <td>-11.3</td>\n",
       "    </tr>\n",
       "    <tr>\n",
       "      <th>2021-01-01 20:00:00</th>\n",
       "      <td>-15.8</td>\n",
       "    </tr>\n",
       "    <tr>\n",
       "      <th>...</th>\n",
       "      <td>...</td>\n",
       "    </tr>\n",
       "    <tr>\n",
       "      <th>2022-08-30 02:00:00</th>\n",
       "      <td>11.8</td>\n",
       "    </tr>\n",
       "    <tr>\n",
       "      <th>2022-08-30 05:00:00</th>\n",
       "      <td>16.2</td>\n",
       "    </tr>\n",
       "    <tr>\n",
       "      <th>2022-08-30 08:00:00</th>\n",
       "      <td>20.5</td>\n",
       "    </tr>\n",
       "    <tr>\n",
       "      <th>2022-08-30 11:00:00</th>\n",
       "      <td>21.4</td>\n",
       "    </tr>\n",
       "    <tr>\n",
       "      <th>2022-08-30 14:00:00</th>\n",
       "      <td>17.2</td>\n",
       "    </tr>\n",
       "  </tbody>\n",
       "</table>\n",
       "<p>4851 rows × 1 columns</p>\n",
       "</div>"
      ],
      "text/plain": [
       "                      tem\n",
       "2021-01-01 08:00:00  -0.2\n",
       "2021-01-01 11:00:00  -0.9\n",
       "2021-01-01 14:00:00  -5.8\n",
       "2021-01-01 17:00:00 -11.3\n",
       "2021-01-01 20:00:00 -15.8\n",
       "...                   ...\n",
       "2022-08-30 02:00:00  11.8\n",
       "2022-08-30 05:00:00  16.2\n",
       "2022-08-30 08:00:00  20.5\n",
       "2022-08-30 11:00:00  21.4\n",
       "2022-08-30 14:00:00  17.2\n",
       "\n",
       "[4851 rows x 1 columns]"
      ]
     },
     "execution_count": 11,
     "metadata": {},
     "output_type": "execute_result"
    }
   ],
   "source": [
    "df"
   ]
  },
  {
   "cell_type": "code",
   "execution_count": 12,
   "id": "5c79daa2",
   "metadata": {},
   "outputs": [],
   "source": [
    "df = df[:-260]"
   ]
  },
  {
   "cell_type": "code",
   "execution_count": 15,
   "id": "c9cfb2ce",
   "metadata": {},
   "outputs": [],
   "source": [
    "# df.to_csv('../../data/informer/station_21010108_22072902.csv')"
   ]
  },
  {
   "cell_type": "code",
   "execution_count": 14,
   "id": "0bbb15c3",
   "metadata": {},
   "outputs": [
    {
     "ename": "AttributeError",
     "evalue": "'DataFrame' object has no attribute 'datetime'",
     "output_type": "error",
     "traceback": [
      "\u001b[1;31m---------------------------------------------------------------------------\u001b[0m",
      "\u001b[1;31mAttributeError\u001b[0m                            Traceback (most recent call last)",
      "\u001b[1;32m~\\AppData\\Local\\Temp/ipykernel_26432/4088875294.py\u001b[0m in \u001b[0;36m<module>\u001b[1;34m\u001b[0m\n\u001b[1;32m----> 1\u001b[1;33m \u001b[0mdf_station\u001b[0m\u001b[1;33m[\u001b[0m\u001b[0mdf_station\u001b[0m\u001b[1;33m.\u001b[0m\u001b[0mdatetime\u001b[0m\u001b[1;33m==\u001b[0m\u001b[1;34m'2021-05-05 11:00:00'\u001b[0m\u001b[1;33m]\u001b[0m\u001b[1;33m\u001b[0m\u001b[1;33m\u001b[0m\u001b[0m\n\u001b[0m",
      "\u001b[1;32m~\\.conda\\envs\\mypytorchenv\\lib\\site-packages\\pandas\\core\\generic.py\u001b[0m in \u001b[0;36m__getattr__\u001b[1;34m(self, name)\u001b[0m\n\u001b[0;32m   5573\u001b[0m         ):\n\u001b[0;32m   5574\u001b[0m             \u001b[1;32mreturn\u001b[0m \u001b[0mself\u001b[0m\u001b[1;33m[\u001b[0m\u001b[0mname\u001b[0m\u001b[1;33m]\u001b[0m\u001b[1;33m\u001b[0m\u001b[1;33m\u001b[0m\u001b[0m\n\u001b[1;32m-> 5575\u001b[1;33m         \u001b[1;32mreturn\u001b[0m \u001b[0mobject\u001b[0m\u001b[1;33m.\u001b[0m\u001b[0m__getattribute__\u001b[0m\u001b[1;33m(\u001b[0m\u001b[0mself\u001b[0m\u001b[1;33m,\u001b[0m \u001b[0mname\u001b[0m\u001b[1;33m)\u001b[0m\u001b[1;33m\u001b[0m\u001b[1;33m\u001b[0m\u001b[0m\n\u001b[0m\u001b[0;32m   5576\u001b[0m \u001b[1;33m\u001b[0m\u001b[0m\n\u001b[0;32m   5577\u001b[0m     \u001b[1;32mdef\u001b[0m \u001b[0m__setattr__\u001b[0m\u001b[1;33m(\u001b[0m\u001b[0mself\u001b[0m\u001b[1;33m,\u001b[0m \u001b[0mname\u001b[0m\u001b[1;33m:\u001b[0m \u001b[0mstr\u001b[0m\u001b[1;33m,\u001b[0m \u001b[0mvalue\u001b[0m\u001b[1;33m)\u001b[0m \u001b[1;33m->\u001b[0m \u001b[1;32mNone\u001b[0m\u001b[1;33m:\u001b[0m\u001b[1;33m\u001b[0m\u001b[1;33m\u001b[0m\u001b[0m\n",
      "\u001b[1;31mAttributeError\u001b[0m: 'DataFrame' object has no attribute 'datetime'"
     ]
    }
   ],
   "source": [
    "df_station[df_station.datetime=='2021-05-05 11:00:00']"
   ]
  },
  {
   "cell_type": "code",
   "execution_count": null,
   "id": "66c1663d",
   "metadata": {},
   "outputs": [],
   "source": [
    "df_station[df_station.datetime=='2021-05-31 05:00:00']"
   ]
  },
  {
   "cell_type": "code",
   "execution_count": 21,
   "id": "e6d65b7c",
   "metadata": {},
   "outputs": [],
   "source": [
    "df_1 = df_station[2977:3595:3]"
   ]
  },
  {
   "cell_type": "code",
   "execution_count": 23,
   "id": "207dd304",
   "metadata": {},
   "outputs": [
    {
     "name": "stderr",
     "output_type": "stream",
     "text": [
      "C:\\Users\\cy511\\AppData\\Local\\Temp/ipykernel_13452/3276236826.py:1: SettingWithCopyWarning: \n",
      "A value is trying to be set on a copy of a slice from a DataFrame.\n",
      "Try using .loc[row_indexer,col_indexer] = value instead\n",
      "\n",
      "See the caveats in the documentation: https://pandas.pydata.org/pandas-docs/stable/user_guide/indexing.html#returning-a-view-versus-a-copy\n",
      "  df_1['datetime'] = df_1['datetime'].apply(lambda x:pd.to_datetime(x).strftime('%Y/%m/%d %H:%M'))\n"
     ]
    }
   ],
   "source": [
    "df_1['datetime'] = df_1['datetime'].apply(lambda x:pd.to_datetime(x).strftime('%Y/%m/%d %H:%M'))"
   ]
  },
  {
   "cell_type": "code",
   "execution_count": 25,
   "id": "30f0c4aa",
   "metadata": {},
   "outputs": [],
   "source": [
    "# df_1.to_csv('./tem.csv',index=False)"
   ]
  },
  {
   "cell_type": "code",
   "execution_count": 2,
   "id": "76a0eab7",
   "metadata": {},
   "outputs": [],
   "source": [
    "df_station_2022 = pd.read_excel('../../data/raw/raw_气象站数据.xlsx')\n",
    "df_station_2022 = df_station_2022[['datetime','tem']]"
   ]
  },
  {
   "cell_type": "code",
   "execution_count": 3,
   "id": "73306e65",
   "metadata": {},
   "outputs": [
    {
     "data": {
      "text/html": [
       "<div>\n",
       "<style scoped>\n",
       "    .dataframe tbody tr th:only-of-type {\n",
       "        vertical-align: middle;\n",
       "    }\n",
       "\n",
       "    .dataframe tbody tr th {\n",
       "        vertical-align: top;\n",
       "    }\n",
       "\n",
       "    .dataframe thead th {\n",
       "        text-align: right;\n",
       "    }\n",
       "</style>\n",
       "<table border=\"1\" class=\"dataframe\">\n",
       "  <thead>\n",
       "    <tr style=\"text-align: right;\">\n",
       "      <th></th>\n",
       "      <th>datetime</th>\n",
       "      <th>tem</th>\n",
       "    </tr>\n",
       "  </thead>\n",
       "  <tbody>\n",
       "    <tr>\n",
       "      <th>10267</th>\n",
       "      <td>2021-05-13 00:00:00</td>\n",
       "      <td>1.3</td>\n",
       "    </tr>\n",
       "    <tr>\n",
       "      <th>10266</th>\n",
       "      <td>2021-05-13 01:00:00</td>\n",
       "      <td>1.5</td>\n",
       "    </tr>\n",
       "    <tr>\n",
       "      <th>10265</th>\n",
       "      <td>2021-05-13 02:00:00</td>\n",
       "      <td>3.8</td>\n",
       "    </tr>\n",
       "    <tr>\n",
       "      <th>10264</th>\n",
       "      <td>2021-05-13 03:00:00</td>\n",
       "      <td>4.4</td>\n",
       "    </tr>\n",
       "    <tr>\n",
       "      <th>10263</th>\n",
       "      <td>2021-05-13 09:00:00</td>\n",
       "      <td>10.0</td>\n",
       "    </tr>\n",
       "  </tbody>\n",
       "</table>\n",
       "</div>"
      ],
      "text/plain": [
       "                 datetime   tem\n",
       "10267 2021-05-13 00:00:00   1.3\n",
       "10266 2021-05-13 01:00:00   1.5\n",
       "10265 2021-05-13 02:00:00   3.8\n",
       "10264 2021-05-13 03:00:00   4.4\n",
       "10263 2021-05-13 09:00:00  10.0"
      ]
     },
     "execution_count": 3,
     "metadata": {},
     "output_type": "execute_result"
    }
   ],
   "source": [
    "df_station_2022['datetime'] = pd.to_datetime(df_station_2022['datetime'])\n",
    "df_station_2022.sort_values(by=['datetime'],inplace=True,ascending=True)\n",
    "df_station_2022.head()"
   ]
  },
  {
   "cell_type": "code",
   "execution_count": 4,
   "id": "cd3f726c",
   "metadata": {},
   "outputs": [
    {
     "data": {
      "text/html": [
       "<div>\n",
       "<style scoped>\n",
       "    .dataframe tbody tr th:only-of-type {\n",
       "        vertical-align: middle;\n",
       "    }\n",
       "\n",
       "    .dataframe tbody tr th {\n",
       "        vertical-align: top;\n",
       "    }\n",
       "\n",
       "    .dataframe thead th {\n",
       "        text-align: right;\n",
       "    }\n",
       "</style>\n",
       "<table border=\"1\" class=\"dataframe\">\n",
       "  <thead>\n",
       "    <tr style=\"text-align: right;\">\n",
       "      <th></th>\n",
       "      <th>tem</th>\n",
       "    </tr>\n",
       "  </thead>\n",
       "  <tbody>\n",
       "    <tr>\n",
       "      <th>count</th>\n",
       "      <td>10268.000000</td>\n",
       "    </tr>\n",
       "    <tr>\n",
       "      <th>mean</th>\n",
       "      <td>101.524601</td>\n",
       "    </tr>\n",
       "    <tr>\n",
       "      <th>std</th>\n",
       "      <td>9868.592341</td>\n",
       "    </tr>\n",
       "    <tr>\n",
       "      <th>min</th>\n",
       "      <td>-271.700000</td>\n",
       "    </tr>\n",
       "    <tr>\n",
       "      <th>25%</th>\n",
       "      <td>-5.100000</td>\n",
       "    </tr>\n",
       "    <tr>\n",
       "      <th>50%</th>\n",
       "      <td>6.500000</td>\n",
       "    </tr>\n",
       "    <tr>\n",
       "      <th>75%</th>\n",
       "      <td>13.300000</td>\n",
       "    </tr>\n",
       "    <tr>\n",
       "      <th>max</th>\n",
       "      <td>999999.000000</td>\n",
       "    </tr>\n",
       "  </tbody>\n",
       "</table>\n",
       "</div>"
      ],
      "text/plain": [
       "                 tem\n",
       "count   10268.000000\n",
       "mean      101.524601\n",
       "std      9868.592341\n",
       "min      -271.700000\n",
       "25%        -5.100000\n",
       "50%         6.500000\n",
       "75%        13.300000\n",
       "max    999999.000000"
      ]
     },
     "execution_count": 4,
     "metadata": {},
     "output_type": "execute_result"
    }
   ],
   "source": [
    "df_station_2022.describe()"
   ]
  },
  {
   "cell_type": "code",
   "execution_count": 5,
   "id": "b50df3c7",
   "metadata": {},
   "outputs": [
    {
     "data": {
      "text/plain": [
       "<AxesSubplot:xlabel='datetime'>"
      ]
     },
     "execution_count": 5,
     "metadata": {},
     "output_type": "execute_result"
    },
    {
     "data": {
      "image/png": "[encoded data removed]",
      "text/plain": [
       "<Figure size 432x288 with 1 Axes>"
      ]
     },
     "metadata": {
      "needs_background": "light"
     },
     "output_type": "display_data"
    }
   ],
   "source": [
    "df_station_2022.set_index('datetime').plot()"
   ]
  },
  {
   "cell_type": "code",
   "execution_count": 6,
   "id": "6c91273b",
   "metadata": {},
   "outputs": [
    {
     "data": {
      "image/png": "[encoded data removed]",
      "text/plain": [
       "<Figure size 1152x288 with 1 Axes>"
      ]
     },
     "metadata": {},
     "output_type": "display_data"
    }
   ],
   "source": [
    "from adtk.detector import ThresholdAD\n",
    "threshold_ad = ThresholdAD(high=50, low=-50)\n",
    "anomalies = threshold_ad.detect(df_station_2022.set_index('datetime'))\n",
    "\n",
    "\n",
    "# from adtk.detector import QuantileAD\n",
    "# quantile_ad = QuantileAD(high=0.99, low=0.01)\n",
    "# anomalies = quantile_ad.fit_detect(df_station_2022.set_index('datetime'))\n",
    "\n",
    "from adtk.visualization import plot\n",
    "plot(df_station_2022.set_index('datetime'), anomaly=anomalies, ts_linewidth=1, ts_markersize=3, anomaly_markersize=5, anomaly_color='red', anomaly_tag=\"marker\");"
   ]
  },
  {
   "cell_type": "markdown",
   "id": "157d8799",
   "metadata": {},
   "source": [
    "## 站点数据异常值处理"
   ]
  },
  {
   "cell_type": "code",
   "execution_count": 7,
   "id": "e725ac78",
   "metadata": {},
   "outputs": [
    {
     "name": "stderr",
     "output_type": "stream",
     "text": [
      "C:\\Users\\cy511\\AppData\\Local\\Temp/ipykernel_23992/3940502552.py:1: SettingWithCopyWarning: \n",
      "A value is trying to be set on a copy of a slice from a DataFrame\n",
      "\n",
      "See the caveats in the documentation: https://pandas.pydata.org/pandas-docs/stable/user_guide/indexing.html#returning-a-view-versus-a-copy\n",
      "  df_station_2022[\"tem\"][df_station_2022.tem<-50]=np.nan\n",
      "C:\\Users\\cy511\\AppData\\Local\\Temp/ipykernel_23992/3940502552.py:2: SettingWithCopyWarning: \n",
      "A value is trying to be set on a copy of a slice from a DataFrame\n",
      "\n",
      "See the caveats in the documentation: https://pandas.pydata.org/pandas-docs/stable/user_guide/indexing.html#returning-a-view-versus-a-copy\n",
      "  df_station_2022[\"tem\"][df_station_2022.tem>50]=np.nan\n"
     ]
    }
   ],
   "source": [
    "df_station_2022[\"tem\"][df_station_2022.tem<-50]=np.nan\n",
    "df_station_2022[\"tem\"][df_station_2022.tem>50]=np.nan\n",
    "# df_station_2022[\"tem\"] = df_station_2022[\"tem\"].fillna(method='ffill')"
   ]
  },
  {
   "cell_type": "code",
   "execution_count": 8,
   "id": "f9dfdcde",
   "metadata": {},
   "outputs": [
    {
     "data": {
      "text/plain": [
       "datetime    0\n",
       "tem         6\n",
       "dtype: int64"
      ]
     },
     "execution_count": 8,
     "metadata": {},
     "output_type": "execute_result"
    }
   ],
   "source": [
    "df_station_2022.isnull().sum()"
   ]
  },
  {
   "cell_type": "markdown",
   "id": "f66981b4",
   "metadata": {},
   "source": [
    "## 站点数据缺失值处理（原来不存在）"
   ]
  },
  {
   "cell_type": "code",
   "execution_count": 9,
   "id": "bab70a65",
   "metadata": {},
   "outputs": [],
   "source": [
    "df_station_2022 = df_station_2022.set_index('datetime')\n",
    "dates = pd.date_range(start=\"2021/5/13 \", end=\"2022/8/8\",freq='H')\n",
    "df_station_2022 = df_station_2022.reindex(dates) # 用新的数据去填充索引，缺失的索引补上，然后值设为NAN"
   ]
  },
  {
   "cell_type": "code",
   "execution_count": 10,
   "id": "dc4fddfe",
   "metadata": {},
   "outputs": [
    {
     "data": {
      "text/plain": [
       "(10849, 1)"
      ]
     },
     "execution_count": 10,
     "metadata": {},
     "output_type": "execute_result"
    }
   ],
   "source": [
    "df_station_2022.values.shape"
   ]
  },
  {
   "cell_type": "code",
   "execution_count": 11,
   "id": "0a278eb3",
   "metadata": {},
   "outputs": [],
   "source": [
    "# f, ax = plt.subplots(nrows=1, ncols=1, figsize=(16,5))\n",
    "\n",
    "# sns.heatmap(df_station_2022.T.isna(), cmap='Reds_r')\n",
    "# ax.set_title('Missing Values', fontsize=16)\n",
    "\n",
    "# for tick in ax.yaxis.get_major_ticks():\n",
    "#     tick.label.set_fontsize(14)\n",
    "# plt.show()"
   ]
  },
  {
   "cell_type": "code",
   "execution_count": 12,
   "id": "06521e36",
   "metadata": {},
   "outputs": [
    {
     "data": {
      "text/plain": [
       "<AxesSubplot:>"
      ]
     },
     "execution_count": 12,
     "metadata": {},
     "output_type": "execute_result"
    },
    {
     "data": {
      "image/png": "[encoded data removed]",
      "text/plain": [
       "<Figure size 432x288 with 1 Axes>"
      ]
     },
     "metadata": {},
     "output_type": "display_data"
    }
   ],
   "source": [
    "# 通过图像定位大面积缺失值位置\n",
    "df_station_2022.plot()"
   ]
  },
  {
   "cell_type": "code",
   "execution_count": 13,
   "id": "86523b89",
   "metadata": {},
   "outputs": [],
   "source": [
    "# df_station_2022['2021/5/20']\n",
    "# 再前向填充，补充个别的缺失值\n",
    "df_station_2022[\"tem\"] = df_station_2022[\"tem\"].fillna(method='bfill')"
   ]
  },
  {
   "cell_type": "code",
   "execution_count": null,
   "id": "fa19273e",
   "metadata": {},
   "outputs": [],
   "source": []
  },
  {
   "cell_type": "markdown",
   "id": "41d807eb",
   "metadata": {},
   "source": [
    "## 找到两处比较大的缺失值\n",
    "2021/5/19 5:00:00 - 2021/5/27 7:00:00 \n",
    "\n",
    "\n",
    "2022/5/5 9:00:00 - 2022/5/18 3:00:00 \n",
    "\n"
   ]
  },
  {
   "cell_type": "code",
   "execution_count": 14,
   "id": "99e33a2c",
   "metadata": {},
   "outputs": [],
   "source": [
    "df_2022_re= df_station_2022['2021/5/27 08:00:00':'2022/5/05 8:00:00'] # 8233条\n"
   ]
  },
  {
   "cell_type": "code",
   "execution_count": 15,
   "id": "9cce045c",
   "metadata": {},
   "outputs": [],
   "source": [
    "df_2022_re_3h = df_2022_re[::3] # 等距采样切片"
   ]
  },
  {
   "cell_type": "code",
   "execution_count": 16,
   "id": "9e23e3b2",
   "metadata": {},
   "outputs": [
    {
     "name": "stderr",
     "output_type": "stream",
     "text": [
      "C:\\Users\\cy511\\AppData\\Local\\Temp/ipykernel_23992/2119367137.py:1: SettingWithCopyWarning: \n",
      "A value is trying to be set on a copy of a slice from a DataFrame.\n",
      "Try using .loc[row_indexer,col_indexer] = value instead\n",
      "\n",
      "See the caveats in the documentation: https://pandas.pydata.org/pandas-docs/stable/user_guide/indexing.html#returning-a-view-versus-a-copy\n",
      "  df_2022_re_3h['date'] = df_2022_re_3h.index\n"
     ]
    },
    {
     "data": {
      "text/html": [
       "<div>\n",
       "<style scoped>\n",
       "    .dataframe tbody tr th:only-of-type {\n",
       "        vertical-align: middle;\n",
       "    }\n",
       "\n",
       "    .dataframe tbody tr th {\n",
       "        vertical-align: top;\n",
       "    }\n",
       "\n",
       "    .dataframe thead th {\n",
       "        text-align: right;\n",
       "    }\n",
       "</style>\n",
       "<table border=\"1\" class=\"dataframe\">\n",
       "  <thead>\n",
       "    <tr style=\"text-align: right;\">\n",
       "      <th></th>\n",
       "      <th>tem</th>\n",
       "      <th>date</th>\n",
       "    </tr>\n",
       "  </thead>\n",
       "  <tbody>\n",
       "    <tr>\n",
       "      <th>2021-05-27 08:00:00</th>\n",
       "      <td>13.3</td>\n",
       "      <td>2021-05-27 08:00:00</td>\n",
       "    </tr>\n",
       "    <tr>\n",
       "      <th>2021-05-27 11:00:00</th>\n",
       "      <td>14.5</td>\n",
       "      <td>2021-05-27 11:00:00</td>\n",
       "    </tr>\n",
       "    <tr>\n",
       "      <th>2021-05-27 14:00:00</th>\n",
       "      <td>11.4</td>\n",
       "      <td>2021-05-27 14:00:00</td>\n",
       "    </tr>\n",
       "    <tr>\n",
       "      <th>2021-05-27 17:00:00</th>\n",
       "      <td>6.8</td>\n",
       "      <td>2021-05-27 17:00:00</td>\n",
       "    </tr>\n",
       "    <tr>\n",
       "      <th>2021-05-27 20:00:00</th>\n",
       "      <td>3.7</td>\n",
       "      <td>2021-05-27 20:00:00</td>\n",
       "    </tr>\n",
       "    <tr>\n",
       "      <th>2021-05-27 23:00:00</th>\n",
       "      <td>0.7</td>\n",
       "      <td>2021-05-27 23:00:00</td>\n",
       "    </tr>\n",
       "    <tr>\n",
       "      <th>2021-05-28 02:00:00</th>\n",
       "      <td>5.5</td>\n",
       "      <td>2021-05-28 02:00:00</td>\n",
       "    </tr>\n",
       "    <tr>\n",
       "      <th>2021-05-28 05:00:00</th>\n",
       "      <td>11.7</td>\n",
       "      <td>2021-05-28 05:00:00</td>\n",
       "    </tr>\n",
       "  </tbody>\n",
       "</table>\n",
       "</div>"
      ],
      "text/plain": [
       "                      tem                date\n",
       "2021-05-27 08:00:00  13.3 2021-05-27 08:00:00\n",
       "2021-05-27 11:00:00  14.5 2021-05-27 11:00:00\n",
       "2021-05-27 14:00:00  11.4 2021-05-27 14:00:00\n",
       "2021-05-27 17:00:00   6.8 2021-05-27 17:00:00\n",
       "2021-05-27 20:00:00   3.7 2021-05-27 20:00:00\n",
       "2021-05-27 23:00:00   0.7 2021-05-27 23:00:00\n",
       "2021-05-28 02:00:00   5.5 2021-05-28 02:00:00\n",
       "2021-05-28 05:00:00  11.7 2021-05-28 05:00:00"
      ]
     },
     "execution_count": 16,
     "metadata": {},
     "output_type": "execute_result"
    }
   ],
   "source": [
    "df_2022_re_3h['date'] = df_2022_re_3h.index\n",
    "df_2022_re_3h.head(8)"
   ]
  },
  {
   "cell_type": "code",
   "execution_count": 17,
   "id": "0905922a",
   "metadata": {},
   "outputs": [],
   "source": [
    "# df_2022_re_3h['date'] = df_2022_re_3h['date'].dt.date"
   ]
  },
  {
   "cell_type": "code",
   "execution_count": 18,
   "id": "67d4c857",
   "metadata": {},
   "outputs": [
    {
     "data": {
      "text/html": [
       "<div>\n",
       "<style scoped>\n",
       "    .dataframe tbody tr th:only-of-type {\n",
       "        vertical-align: middle;\n",
       "    }\n",
       "\n",
       "    .dataframe tbody tr th {\n",
       "        vertical-align: top;\n",
       "    }\n",
       "\n",
       "    .dataframe thead th {\n",
       "        text-align: right;\n",
       "    }\n",
       "</style>\n",
       "<table border=\"1\" class=\"dataframe\">\n",
       "  <thead>\n",
       "    <tr style=\"text-align: right;\">\n",
       "      <th></th>\n",
       "      <th>tem</th>\n",
       "      <th>date</th>\n",
       "    </tr>\n",
       "  </thead>\n",
       "  <tbody>\n",
       "    <tr>\n",
       "      <th>2021-05-27 08:00:00</th>\n",
       "      <td>13.3</td>\n",
       "      <td>2021-05-27 08:00:00</td>\n",
       "    </tr>\n",
       "    <tr>\n",
       "      <th>2021-05-27 11:00:00</th>\n",
       "      <td>14.5</td>\n",
       "      <td>2021-05-27 11:00:00</td>\n",
       "    </tr>\n",
       "    <tr>\n",
       "      <th>2021-05-27 14:00:00</th>\n",
       "      <td>11.4</td>\n",
       "      <td>2021-05-27 14:00:00</td>\n",
       "    </tr>\n",
       "    <tr>\n",
       "      <th>2021-05-27 17:00:00</th>\n",
       "      <td>6.8</td>\n",
       "      <td>2021-05-27 17:00:00</td>\n",
       "    </tr>\n",
       "    <tr>\n",
       "      <th>2021-05-27 20:00:00</th>\n",
       "      <td>3.7</td>\n",
       "      <td>2021-05-27 20:00:00</td>\n",
       "    </tr>\n",
       "  </tbody>\n",
       "</table>\n",
       "</div>"
      ],
      "text/plain": [
       "                      tem                date\n",
       "2021-05-27 08:00:00  13.3 2021-05-27 08:00:00\n",
       "2021-05-27 11:00:00  14.5 2021-05-27 11:00:00\n",
       "2021-05-27 14:00:00  11.4 2021-05-27 14:00:00\n",
       "2021-05-27 17:00:00   6.8 2021-05-27 17:00:00\n",
       "2021-05-27 20:00:00   3.7 2021-05-27 20:00:00"
      ]
     },
     "execution_count": 18,
     "metadata": {},
     "output_type": "execute_result"
    }
   ],
   "source": [
    "df_2022_re_3h.head()"
   ]
  },
  {
   "cell_type": "code",
   "execution_count": 19,
   "id": "255851ee",
   "metadata": {},
   "outputs": [],
   "source": [
    "# df_2022_re_3h.info()"
   ]
  },
  {
   "cell_type": "code",
   "execution_count": null,
   "id": "ed0585ee",
   "metadata": {},
   "outputs": [],
   "source": []
  },
  {
   "cell_type": "code",
   "execution_count": 20,
   "id": "89d1f9cb",
   "metadata": {},
   "outputs": [],
   "source": [
    "# df_2022_re_3h['date'] = pd.to_datetime(df_2022_re_3h['date'])"
   ]
  },
  {
   "cell_type": "code",
   "execution_count": 21,
   "id": "053b67d0",
   "metadata": {},
   "outputs": [
    {
     "data": {
      "text/html": [
       "<div>\n",
       "<style scoped>\n",
       "    .dataframe tbody tr th:only-of-type {\n",
       "        vertical-align: middle;\n",
       "    }\n",
       "\n",
       "    .dataframe tbody tr th {\n",
       "        vertical-align: top;\n",
       "    }\n",
       "\n",
       "    .dataframe thead th {\n",
       "        text-align: right;\n",
       "    }\n",
       "</style>\n",
       "<table border=\"1\" class=\"dataframe\">\n",
       "  <thead>\n",
       "    <tr style=\"text-align: right;\">\n",
       "      <th></th>\n",
       "      <th>tem</th>\n",
       "      <th>date</th>\n",
       "    </tr>\n",
       "  </thead>\n",
       "  <tbody>\n",
       "    <tr>\n",
       "      <th>2021-05-27 08:00:00</th>\n",
       "      <td>13.3</td>\n",
       "      <td>2021-05-27 08:00:00</td>\n",
       "    </tr>\n",
       "    <tr>\n",
       "      <th>2021-05-27 11:00:00</th>\n",
       "      <td>14.5</td>\n",
       "      <td>2021-05-27 11:00:00</td>\n",
       "    </tr>\n",
       "    <tr>\n",
       "      <th>2021-05-27 14:00:00</th>\n",
       "      <td>11.4</td>\n",
       "      <td>2021-05-27 14:00:00</td>\n",
       "    </tr>\n",
       "    <tr>\n",
       "      <th>2021-05-27 17:00:00</th>\n",
       "      <td>6.8</td>\n",
       "      <td>2021-05-27 17:00:00</td>\n",
       "    </tr>\n",
       "    <tr>\n",
       "      <th>2021-05-27 20:00:00</th>\n",
       "      <td>3.7</td>\n",
       "      <td>2021-05-27 20:00:00</td>\n",
       "    </tr>\n",
       "  </tbody>\n",
       "</table>\n",
       "</div>"
      ],
      "text/plain": [
       "                      tem                date\n",
       "2021-05-27 08:00:00  13.3 2021-05-27 08:00:00\n",
       "2021-05-27 11:00:00  14.5 2021-05-27 11:00:00\n",
       "2021-05-27 14:00:00  11.4 2021-05-27 14:00:00\n",
       "2021-05-27 17:00:00   6.8 2021-05-27 17:00:00\n",
       "2021-05-27 20:00:00   3.7 2021-05-27 20:00:00"
      ]
     },
     "execution_count": 21,
     "metadata": {},
     "output_type": "execute_result"
    }
   ],
   "source": [
    "# df_2022_re_3h['date'] = df_2022_re_3h.time.apply(lambda x:x.strftime('%Y/%m/%d'))\n",
    "df_2022_re_3h.head()"
   ]
  },
  {
   "cell_type": "code",
   "execution_count": 22,
   "id": "a981a03a",
   "metadata": {},
   "outputs": [
    {
     "data": {
      "text/html": [
       "<div>\n",
       "<style scoped>\n",
       "    .dataframe tbody tr th:only-of-type {\n",
       "        vertical-align: middle;\n",
       "    }\n",
       "\n",
       "    .dataframe tbody tr th {\n",
       "        vertical-align: top;\n",
       "    }\n",
       "\n",
       "    .dataframe thead th {\n",
       "        text-align: right;\n",
       "    }\n",
       "</style>\n",
       "<table border=\"1\" class=\"dataframe\">\n",
       "  <thead>\n",
       "    <tr style=\"text-align: right;\">\n",
       "      <th></th>\n",
       "      <th>tem</th>\n",
       "    </tr>\n",
       "    <tr>\n",
       "      <th>date</th>\n",
       "      <th></th>\n",
       "    </tr>\n",
       "  </thead>\n",
       "  <tbody>\n",
       "    <tr>\n",
       "      <th>2021-05-27 08:00:00</th>\n",
       "      <td>13.3</td>\n",
       "    </tr>\n",
       "    <tr>\n",
       "      <th>2021-05-27 11:00:00</th>\n",
       "      <td>14.5</td>\n",
       "    </tr>\n",
       "    <tr>\n",
       "      <th>2021-05-27 14:00:00</th>\n",
       "      <td>11.4</td>\n",
       "    </tr>\n",
       "    <tr>\n",
       "      <th>2021-05-27 17:00:00</th>\n",
       "      <td>6.8</td>\n",
       "    </tr>\n",
       "    <tr>\n",
       "      <th>2021-05-27 20:00:00</th>\n",
       "      <td>3.7</td>\n",
       "    </tr>\n",
       "  </tbody>\n",
       "</table>\n",
       "</div>"
      ],
      "text/plain": [
       "                      tem\n",
       "date                     \n",
       "2021-05-27 08:00:00  13.3\n",
       "2021-05-27 11:00:00  14.5\n",
       "2021-05-27 14:00:00  11.4\n",
       "2021-05-27 17:00:00   6.8\n",
       "2021-05-27 20:00:00   3.7"
      ]
     },
     "execution_count": 22,
     "metadata": {},
     "output_type": "execute_result"
    }
   ],
   "source": [
    "df_2022_re_3h = df_2022_re_3h.set_index('date')\n",
    "\n",
    "df_2022_re_3h.head()"
   ]
  },
  {
   "cell_type": "code",
   "execution_count": 39,
   "id": "78c1d9a2",
   "metadata": {},
   "outputs": [],
   "source": [
    "# df_2022_re_3h.to_csv('../../data/informer/station_s_21051708_22050508.csv')"
   ]
  },
  {
   "cell_type": "code",
   "execution_count": 44,
   "id": "ca71698a",
   "metadata": {},
   "outputs": [],
   "source": [
    "# valid_2022_6_7_re_3h.to_csv('../../data/informer/valid_station_s_22053108_22073108.csv')"
   ]
  },
  {
   "cell_type": "markdown",
   "id": "90beab36",
   "metadata": {},
   "source": [
    "# 拆分训练集、测试集"
   ]
  },
  {
   "cell_type": "code",
   "execution_count": 43,
   "id": "01c11e98",
   "metadata": {},
   "outputs": [
    {
     "data": {
      "text/html": [
       "<div>\n",
       "<style scoped>\n",
       "    .dataframe tbody tr th:only-of-type {\n",
       "        vertical-align: middle;\n",
       "    }\n",
       "\n",
       "    .dataframe tbody tr th {\n",
       "        vertical-align: top;\n",
       "    }\n",
       "\n",
       "    .dataframe thead th {\n",
       "        text-align: right;\n",
       "    }\n",
       "</style>\n",
       "<table border=\"1\" class=\"dataframe\">\n",
       "  <thead>\n",
       "    <tr style=\"text-align: right;\">\n",
       "      <th></th>\n",
       "      <th>date</th>\n",
       "      <th>tem</th>\n",
       "    </tr>\n",
       "  </thead>\n",
       "  <tbody>\n",
       "    <tr>\n",
       "      <th>0</th>\n",
       "      <td>2021-05-27 08:00:00</td>\n",
       "      <td>13.3</td>\n",
       "    </tr>\n",
       "    <tr>\n",
       "      <th>1</th>\n",
       "      <td>2021-05-27 11:00:00</td>\n",
       "      <td>14.5</td>\n",
       "    </tr>\n",
       "    <tr>\n",
       "      <th>2</th>\n",
       "      <td>2021-05-27 14:00:00</td>\n",
       "      <td>11.4</td>\n",
       "    </tr>\n",
       "    <tr>\n",
       "      <th>3</th>\n",
       "      <td>2021-05-27 17:00:00</td>\n",
       "      <td>6.8</td>\n",
       "    </tr>\n",
       "    <tr>\n",
       "      <th>4</th>\n",
       "      <td>2021-05-27 20:00:00</td>\n",
       "      <td>3.7</td>\n",
       "    </tr>\n",
       "    <tr>\n",
       "      <th>5</th>\n",
       "      <td>2021-05-27 23:00:00</td>\n",
       "      <td>0.7</td>\n",
       "    </tr>\n",
       "    <tr>\n",
       "      <th>6</th>\n",
       "      <td>2021-05-28 02:00:00</td>\n",
       "      <td>5.5</td>\n",
       "    </tr>\n",
       "    <tr>\n",
       "      <th>7</th>\n",
       "      <td>2021-05-28 05:00:00</td>\n",
       "      <td>11.7</td>\n",
       "    </tr>\n",
       "  </tbody>\n",
       "</table>\n",
       "</div>"
      ],
      "text/plain": [
       "                  date   tem\n",
       "0  2021-05-27 08:00:00  13.3\n",
       "1  2021-05-27 11:00:00  14.5\n",
       "2  2021-05-27 14:00:00  11.4\n",
       "3  2021-05-27 17:00:00   6.8\n",
       "4  2021-05-27 20:00:00   3.7\n",
       "5  2021-05-27 23:00:00   0.7\n",
       "6  2021-05-28 02:00:00   5.5\n",
       "7  2021-05-28 05:00:00  11.7"
      ]
     },
     "execution_count": 43,
     "metadata": {},
     "output_type": "execute_result"
    }
   ],
   "source": [
    "df =  pd.read_csv('../../data/informer/station_s_21051708_22050508.csv')\n",
    "df.head(8)"
   ]
  },
  {
   "cell_type": "code",
   "execution_count": 18,
   "id": "01767937",
   "metadata": {},
   "outputs": [
    {
     "data": {
      "text/html": [
       "<div>\n",
       "<style scoped>\n",
       "    .dataframe tbody tr th:only-of-type {\n",
       "        vertical-align: middle;\n",
       "    }\n",
       "\n",
       "    .dataframe tbody tr th {\n",
       "        vertical-align: top;\n",
       "    }\n",
       "\n",
       "    .dataframe thead th {\n",
       "        text-align: right;\n",
       "    }\n",
       "</style>\n",
       "<table border=\"1\" class=\"dataframe\">\n",
       "  <thead>\n",
       "    <tr style=\"text-align: right;\">\n",
       "      <th></th>\n",
       "      <th>date</th>\n",
       "      <th>tem</th>\n",
       "    </tr>\n",
       "  </thead>\n",
       "  <tbody>\n",
       "    <tr>\n",
       "      <th>0</th>\n",
       "      <td>2021_05_27_08</td>\n",
       "      <td>13.3</td>\n",
       "    </tr>\n",
       "    <tr>\n",
       "      <th>1</th>\n",
       "      <td>2021_05_27_11</td>\n",
       "      <td>14.5</td>\n",
       "    </tr>\n",
       "    <tr>\n",
       "      <th>2</th>\n",
       "      <td>2021_05_27_14</td>\n",
       "      <td>11.4</td>\n",
       "    </tr>\n",
       "    <tr>\n",
       "      <th>3</th>\n",
       "      <td>2021_05_27_17</td>\n",
       "      <td>6.8</td>\n",
       "    </tr>\n",
       "    <tr>\n",
       "      <th>4</th>\n",
       "      <td>2021_05_27_20</td>\n",
       "      <td>3.7</td>\n",
       "    </tr>\n",
       "  </tbody>\n",
       "</table>\n",
       "</div>"
      ],
      "text/plain": [
       "            date   tem\n",
       "0  2021_05_27_08  13.3\n",
       "1  2021_05_27_11  14.5\n",
       "2  2021_05_27_14  11.4\n",
       "3  2021_05_27_17   6.8\n",
       "4  2021_05_27_20   3.7"
      ]
     },
     "execution_count": 18,
     "metadata": {},
     "output_type": "execute_result"
    }
   ],
   "source": [
    "df.date = pd.to_datetime(df.date).apply(lambda x:x.strftime('%Y_%m_%d_%H'))\n",
    "df.head()"
   ]
  },
  {
   "cell_type": "code",
   "execution_count": 19,
   "id": "2f2dd44c",
   "metadata": {},
   "outputs": [
    {
     "data": {
      "text/plain": [
       "(2745, 2)"
      ]
     },
     "execution_count": 19,
     "metadata": {},
     "output_type": "execute_result"
    }
   ],
   "source": [
    "# df_train"
   ]
  },
  {
   "cell_type": "code",
   "execution_count": null,
   "id": "37e11957-f1f5-4a58-84c9-d47bf71a1d56",
   "metadata": {},
   "outputs": [],
   "source": []
  }
 ],
 "metadata": {
  "kernelspec": {
   "display_name": "Python 3 (ipykernel)",
   "language": "python",
   "name": "python3"
  },
  "language_info": {
   "codemirror_mode": {
    "name": "ipython",
    "version": 3
   },
   "file_extension": ".py",
   "mimetype": "text/x-python",
   "name": "python",
   "nbconvert_exporter": "python",
   "pygments_lexer": "ipython3",
   "version": "3.8.10"
  }
 },
 "nbformat": 4,
 "nbformat_minor": 5
}
